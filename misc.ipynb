{
 "cells": [
  {
   "cell_type": "markdown",
   "metadata": {},
   "source": [
    "# misc stuff"
   ]
  },
  {
   "cell_type": "markdown",
   "metadata": {},
   "source": [
    "### median\n",
    "when trying to compute pixelwise-median for numerous large images, it may not be feasible to hold all in memory... perhaps we can estimate the overall median from the medians of batches of samples?"
   ]
  },
  {
   "cell_type": "code",
   "execution_count": 7,
   "metadata": {},
   "outputs": [],
   "source": [
    "import math\n",
    "\n",
    "def median(array):\n",
    "    return sorted(array)[len(array)//2]\n",
    "\n",
    "\n",
    "def median_by_batches(array, n_per_batch):\n",
    "    n_batches = int(math.ceil(len(array) / n_per_batch))\n",
    "    m = 0.0\n",
    "    for i in range(n_batches):\n",
    "        start = i * n_per_batch\n",
    "        end = start + n_per_batch if i < n_batches-1 else len(array)\n",
    "        m += median(array[start:end])\n",
    "    m /= n_batches\n",
    "    return m"
   ]
  },
  {
   "cell_type": "code",
   "execution_count": 2,
   "metadata": {},
   "outputs": [],
   "source": [
    "import numpy as np\n",
    "import seaborn as sns\n",
    "\n",
    "sns.set()"
   ]
  },
  {
   "cell_type": "code",
   "execution_count": 19,
   "metadata": {},
   "outputs": [],
   "source": [
    "ave_errors = []\n",
    "\n",
    "for n in range(2, 101):\n",
    "    total_error = 0\n",
    "    for i in range(100):\n",
    "        arr = np.random.randint(0, 256, n)\n",
    "        true_median = median(arr)\n",
    "        est_median = median_by_batches(arr, 40)\n",
    "        error = abs(true_median-est_median)\n",
    "        total_error += error\n",
    "    ave_errors.append(total_error / 100)"
   ]
  },
  {
   "cell_type": "code",
   "execution_count": 20,
   "metadata": {},
   "outputs": [
    {
     "data": {
      "text/plain": [
       "<matplotlib.axes._subplots.AxesSubplot at 0x7f245ec5ba60>"
      ]
     },
     "execution_count": 20,
     "metadata": {},
     "output_type": "execute_result"
    },
    {
     "data": {
      "image/png": "[encoded data removed]",
      "text/plain": [
       "<Figure size 432x288 with 1 Axes>"
      ]
     },
     "metadata": {},
     "output_type": "display_data"
    }
   ],
   "source": [
    "sns.scatterplot(list(range(2, 101)), ave_errors)"
   ]
  },
  {
   "cell_type": "markdown",
   "metadata": {},
   "source": []
  }
 ],
 "metadata": {
  "interpreter": {
   "hash": "31f2aee4e71d21fbe5cf8b01ff0e069b9275f58929596ceb00d14d90e3e16cd6"
  },
  "kernelspec": {
   "display_name": "Python 3.8.10 64-bit",
   "language": "python",
   "name": "python3"
  },
  "language_info": {
   "codemirror_mode": {
    "name": "ipython",
    "version": 3
   },
   "file_extension": ".py",
   "mimetype": "text/x-python",
   "name": "python",
   "nbconvert_exporter": "python",
   "pygments_lexer": "ipython3",
   "version": "3.8.10"
  },
  "orig_nbformat": 4
 },
 "nbformat": 4,
 "nbformat_minor": 2
}
